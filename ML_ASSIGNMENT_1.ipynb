{
 "cells": [
  {
   "cell_type": "code",
   "execution_count": null,
   "metadata": {},
   "outputs": [],
   "source": [
    "# Question - 1\n",
    "\n",
    "user_input = [int(input()),int(input()),int(input()),int(input()),int(input()),int(input()),int(input())]\n",
    "\n",
    "unique_input = list(set(user_input))\n",
    "\n",
    "print(\"Unique values :\",unique_input)"
   ]
  },
  {
   "cell_type": "code",
   "execution_count": null,
   "metadata": {},
   "outputs": [],
   "source": [
    "# Question - 2\n",
    "\n",
    "user_data = (12,3,4,4,5,6,2,8,7)\n",
    "\n",
    "print(\"Length of tuple: \",len(user_data))\n",
    "\n",
    "print(\"Sum values :\",sum(user_data))\n",
    "\n",
    "print(\"Maximum value :\",max(user_data))\n",
    "\n",
    "print(\"Minimum value :\",min(user_data))"
   ]
  },
  {
   "cell_type": "code",
   "execution_count": null,
   "metadata": {},
   "outputs": [],
   "source": [
    "# Question - 3\n",
    "\n",
    "number = int(input(\"Enter a number :\"))\n",
    "bit = int(input(\"Enter bit :\"))\n",
    "\n",
    "magic_number =1 <<  bit\n",
    "\n",
    "print(number | magic_number)\n"
   ]
  },
  {
   "cell_type": "code",
   "execution_count": null,
   "metadata": {},
   "outputs": [],
   "source": [
    " # Question - 4 \n",
    "\n",
    "num =int(input(\"Enter a number :\"))\n",
    "\n",
    "value = num % 2\n",
    "\n",
    "#  output is 1 for odd and 0 for enven number.\n",
    "print(value)"
   ]
  },
  {
   "cell_type": "code",
   "execution_count": null,
   "metadata": {},
   "outputs": [],
   "source": [
    "# Question - 5\n",
    "\n",
    "list_A = [3,2,4,8,9]\n",
    "list_B = [5,7,6,1,0]\n",
    "\n",
    "new_list = list_A + list_B\n",
    "\n",
    "# sorting a list in an ascending order.\n",
    "new_list.sort()\n",
    "\n",
    "print(new_list)"
   ]
  },
  {
   "cell_type": "code",
   "execution_count": 50,
   "metadata": {
    "scrolled": true
   },
   "outputs": [
    {
     "name": "stdout",
     "output_type": "stream",
     "text": [
      "Enter name and marks of 5 students :  sasuke,naruto,shino,neji,lee\n",
      "Enter marks if students : 10,40,30,69,38\n",
      "{' sasuke': 10, 'naruto': 40, 'shino': 30, 'neji': 69, 'lee': 38}\n",
      "{' sasuke': 10, 'shino': 30, 'lee': 38, 'naruto': 40, 'neji': 69}\n"
     ]
    }
   ],
   "source": [
    "# Question - 6\n",
    "\n",
    "# input format : student_1, student_2, student_3, student_4, student_5\n",
    "student_name = input(\"Enter name and marks of 5 students : \")\n",
    "student_names = tuple(student_name.split(\",\"))\n",
    "\n",
    "mark = (input(\"Enter marks if students : \"))\n",
    "marks = mark.split(\",\")\n",
    "\n",
    "# dictionaty from inputr values.\n",
    "result = dict([[student_names[0], int(marks[0])],\n",
    "             [student_names[1], int(marks[1])],\n",
    "              [student_names[2],int(marks[2])],\n",
    "              [student_names[3], int( marks[3])],\n",
    "              [student_names[4], int(marks[4])], ])\n",
    "\n",
    "print(result )\n",
    "\n",
    "\"\"\"\n",
    "Sorting dictionary according to marks.\n",
    "\"\"\"\n",
    "student = list(result.items())\n",
    "\n",
    "# making dictionary in { marks : student name } format.\n",
    "formated_result = {student[0][1]:student[0][0],\n",
    "               student[1][1]:student[1][0], \n",
    "                student[2][1]:student[2][0],\n",
    "                student[3][1]:student[3][0],\n",
    "               student[4][1]:student[4][0], }\n",
    "\n",
    "# arranging marks in ascending order.\n",
    "sorted_marks = list(result.values())\n",
    "sorted_marks.sort()\n",
    "\n",
    "# finally!!!\n",
    "sorted_result = {formated_result[sorted_marks[0]]:sorted_marks[0],\n",
    "                formated_result[sorted_marks[1]]:sorted_marks[1],\n",
    "               formated_result[sorted_marks[2]]:sorted_marks[2],\n",
    "               formated_result[sorted_marks[3]]:sorted_marks[3],\n",
    "               formated_result[sorted_marks[4]]:sorted_marks[4],}\n",
    "\n",
    "print(sorted_result)\n"
   ]
  },
  {
   "cell_type": "code",
   "execution_count": null,
   "metadata": {},
   "outputs": [],
   "source": []
  },
  {
   "cell_type": "code",
   "execution_count": null,
   "metadata": {},
   "outputs": [],
   "source": []
  },
  {
   "cell_type": "code",
   "execution_count": null,
   "metadata": {},
   "outputs": [],
   "source": []
  }
 ],
 "metadata": {
  "kernelspec": {
   "display_name": "Python 3",
   "language": "python",
   "name": "python3"
  },
  "language_info": {
   "codemirror_mode": {
    "name": "ipython",
    "version": 3
   },
   "file_extension": ".py",
   "mimetype": "text/x-python",
   "name": "python",
   "nbconvert_exporter": "python",
   "pygments_lexer": "ipython3",
   "version": "3.7.1"
  }
 },
 "nbformat": 4,
 "nbformat_minor": 2
}
